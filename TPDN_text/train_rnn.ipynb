{
 "cells": [
  {
   "cell_type": "code",
   "execution_count": 1,
   "metadata": {},
   "outputs": [],
   "source": [
    "%load_ext autoreload\n",
    "%autoreload 2\n",
    "\n",
    "import requests\n",
    "import torch\n",
    "from torch.utils.data import DataLoader\n",
    "import random\n",
    "import torch.nn as nn \n",
    "from torch import optim\n",
    "# from sklearn.decomposition import TruncatedSVD as svds\n",
    "from scipy.sparse.linalg import svds\n",
    "from sklearn.preprocessing import normalize\n",
    "from torch.nn.utils.rnn import pad_sequence\n",
    "from spice import SpiceEmbeddingModel\n",
    "from gru import GRUEncoder, GRUDecoder\n",
    "from matplotlib import pyplot as plt\n",
    "from time import time "
   ]
  },
  {
   "attachments": {},
   "cell_type": "markdown",
   "metadata": {},
   "source": [
    "# Spice encoding "
   ]
  },
  {
   "cell_type": "code",
   "execution_count": 2,
   "metadata": {},
   "outputs": [
    {
     "name": "stderr",
     "output_type": "stream",
     "text": [
      "/home/baptiste/Documents/cours/projet_3A/TPDN_text/spice.py:91: UserWarning: Creating a tensor from a list of numpy.ndarrays is extremely slow. Please consider converting the list to a single numpy.ndarray with numpy.array() before converting to a tensor. (Triggered internally at /pytorch/torch/csrc/utils/tensor_new.cpp:254.)\n",
      "  torch.tensor([self.embeddings[self.word2idx[word]] for word in sentence.split() if word in self.word2idx], dtype=torch.float32)\n"
     ]
    }
   ],
   "source": [
    "\n",
    "\n",
    "URL = \"https://raw.githubusercontent.com/karpathy/char-rnn/master/data/tinyshakespeare/input.txt\"\n",
    "FILE_PATH = \"shakespeare.txt\"\n",
    "EMB_DIM = 64\n",
    "WINDOW = 5\n",
    "\n",
    "\n",
    "try:\n",
    "    with open(FILE_PATH, 'r', encoding='utf-8') as f:\n",
    "        text = f.read()\n",
    "except FileNotFoundError:\n",
    "    response = requests.get(URL)\n",
    "    text = response.text\n",
    "    with open(FILE_PATH, 'w', encoding='utf-8') as f:\n",
    "        f.write(text)\n",
    "\n",
    "\n",
    "spice_model = SpiceEmbeddingModel(emb_dim=50, window_size=3)\n",
    "\n",
    "sentences = spice_model.preprocess_text(text)\n",
    "# print(sentences)\n",
    "\n",
    "\n",
    "dataset = spice_model.get_dataset(text)\n",
    "# spice_model.save_model(spice_model.embeddings)\n",
    "\n",
    "dataloader = DataLoader(dataset, batch_size=10, shuffle=True)\n",
    "\n",
    "\n",
    "# for batch in dataloader:\n",
    "#     sentence_embeddings = batch\n",
    "#     print(\"Sentence Embeddings: \", len(sentence_embeddings[0]))\n",
    "\n"
   ]
  },
  {
   "attachments": {},
   "cell_type": "markdown",
   "metadata": {},
   "source": [
    "# Modèle definition"
   ]
  },
  {
   "cell_type": "code",
   "execution_count": 4,
   "metadata": {},
   "outputs": [
    {
     "name": "stdout",
     "output_type": "stream",
     "text": [
      "Epoch 1/50, Loss: 0.008091472056218085\n",
      "Epoch 2/50, Loss: 0.00720412815942175\n",
      "Epoch 3/50, Loss: 0.006661063109111803\n",
      "Epoch 4/50, Loss: 0.006101224775193259\n",
      "Epoch 5/50, Loss: 0.005612881930904801\n",
      "Epoch 6/50, Loss: 0.005170348186352799\n",
      "Epoch 7/50, Loss: 0.004751137149551968\n",
      "Epoch 8/50, Loss: 0.004420683533350133\n",
      "Epoch 9/50, Loss: 0.004142753687285056\n",
      "Epoch 10/50, Loss: 0.003913338096357289\n",
      "Epoch 11/50, Loss: 0.0037038782055870715\n",
      "Epoch 12/50, Loss: 0.0035190903575064362\n",
      "Epoch 13/50, Loss: 0.0033610278908533723\n",
      "Epoch 14/50, Loss: 0.0032153782297179782\n",
      "Epoch 15/50, Loss: 0.0030890859402874908\n",
      "Epoch 16/50, Loss: 0.002968452309274157\n",
      "Epoch 17/50, Loss: 0.002863020579917991\n",
      "Epoch 18/50, Loss: 0.002767479848857461\n",
      "Epoch 19/50, Loss: 0.0026771431108830834\n",
      "Epoch 20/50, Loss: 0.0025949783184015278\n",
      "Epoch 21/50, Loss: 0.0025226249900614757\n",
      "Epoch 22/50, Loss: 0.0024579088534334337\n",
      "Epoch 23/50, Loss: 0.002397646086385728\n",
      "Epoch 24/50, Loss: 0.002338207174695774\n",
      "Epoch 25/50, Loss: 0.002283974651866381\n",
      "Epoch 26/50, Loss: 0.0022301394141818905\n",
      "Epoch 27/50, Loss: 0.0021810345169797074\n",
      "Epoch 28/50, Loss: 0.0021326199169958604\n",
      "Epoch 29/50, Loss: 0.002096173963350752\n",
      "Epoch 30/50, Loss: 0.0020537458020209506\n",
      "Epoch 31/50, Loss: 0.002019313122714679\n",
      "Epoch 32/50, Loss: 0.0019746551201520065\n",
      "Epoch 33/50, Loss: 0.0019444863782237835\n",
      "Epoch 34/50, Loss: 0.0019192622547217813\n",
      "Epoch 35/50, Loss: 0.0018873806756428994\n",
      "Epoch 36/50, Loss: 0.001855291741363048\n",
      "Epoch 37/50, Loss: 0.0018209737371018325\n",
      "Epoch 38/50, Loss: 0.0018000044623146425\n",
      "Epoch 39/50, Loss: 0.0017706887645710428\n",
      "Epoch 40/50, Loss: 0.0017544382770376449\n",
      "Epoch 41/50, Loss: 0.001724777490546165\n",
      "Epoch 42/50, Loss: 0.0017046389475581236\n",
      "Epoch 43/50, Loss: 0.0016832073088153265\n",
      "Epoch 44/50, Loss: 0.0016682437202358744\n",
      "Epoch 45/50, Loss: 0.0016596032278771004\n",
      "Epoch 46/50, Loss: 0.0016290792472401254\n",
      "Epoch 47/50, Loss: 0.0016152513549472628\n",
      "Epoch 48/50, Loss: 0.0015937589050736278\n",
      "Epoch 49/50, Loss: 0.0015877837550678205\n",
      "Epoch 50/50, Loss: 0.0015863653517788573\n",
      "training time : 185.81371235847473\n"
     ]
    },
    {
     "data": {
      "text/plain": [
       "[]"
      ]
     },
     "execution_count": 4,
     "metadata": {},
     "output_type": "execute_result"
    },
    {
     "data": {
      "image/png": "[encoded data removed]",
      "text/plain": [
       "<Figure size 640x480 with 1 Axes>"
      ]
     },
     "metadata": {},
     "output_type": "display_data"
    }
   ],
   "source": [
    "device = torch.device(\"cuda\" if torch.cuda.is_available() else \"cpu\")\n",
    "\n",
    "def collate_fn(batch):\n",
    "    \"\"\" permet de rajouter du padding et renvoyer la taille de la séquence dans un batch\"\"\"\n",
    "    batch = [item for item in batch if len(item) > 0]  # Filtrer les séquences vides\n",
    "    lengths = torch.tensor([len(seq) for seq in batch])  # Longueurs originales\n",
    "    padded_batch = pad_sequence(batch, batch_first=True, padding_value=0.0)  # Padding des séquences\n",
    "    return padded_batch, lengths\n",
    "\n",
    "\n",
    "spice_model = SpiceEmbeddingModel()\n",
    "spice_model.load_model()\n",
    "dataset = spice_model.get_dataset(text)\n",
    "dataloader = DataLoader(dataset, batch_size=64, shuffle=True, collate_fn=collate_fn)\n",
    "\n",
    "input_size = 50 # taille des embeddings\n",
    "hidden_size = 128\n",
    "lr = 0.001\n",
    "num_layer=3\n",
    "num_epochs = 50\n",
    "\n",
    "encoder = GRUEncoder(input_size, hidden_size, num_layer).to(device)\n",
    "decoder = GRUDecoder(hidden_size, input_size, num_layer).to(device)\n",
    "\n",
    "criterion = nn.MSELoss()\n",
    "optimizer = optim.Adam(list(encoder.parameters()) +list(decoder.parameters()), lr=lr)\n",
    "\n",
    "losses = []\n",
    "t0 = time()\n",
    "for epoch in range(num_epochs):\n",
    "    total_loss = 0.0\n",
    "\n",
    "    for batch, lengths in dataloader:\n",
    "        batch = batch.to(device)\n",
    "        lengths = lengths.to(device)\n",
    "        optimizer.zero_grad()\n",
    "\n",
    "        encoded, perm_idx = encoder(batch, lengths)\n",
    "        reconstructed = decoder(encoded, lengths)\n",
    "        \n",
    "        # Remettre les séquences dans l'ordre original\n",
    "        _, reverse_idx = perm_idx.sort()\n",
    "        reconstructed = reconstructed[reverse_idx]\n",
    "        batch = batch[reverse_idx]\n",
    "\n",
    "        # Calcul de la perte (ignorer le padding)\n",
    "        loss = criterion(reconstructed, batch)\n",
    "        loss.backward()\n",
    "        optimizer.step()\n",
    "\n",
    "        total_loss += loss.item()\n",
    "    losses.append(total_loss/ len(dataloader))\n",
    "    print(f\"Epoch {epoch+1}/{num_epochs}, Loss: {total_loss / len(dataloader)}\")\n",
    "t1 = time()\n",
    "torch.save(encoder, \"encoder.pth\")\n",
    "torch.save(decoder, \"decoder.pth\")\n",
    "print( f\"training time : {t1-t0}\")\n",
    "plt.plot(losses)\n",
    "plt.title(\"MSE over epoch\")\n",
    "plt.xlabel(\"epoch\")\n",
    "plt.ylabel(\"MSE\")\n",
    "plt.plot()\n"
   ]
  },
  {
   "cell_type": "code",
   "execution_count": 12,
   "metadata": {},
   "outputs": [
    {
     "name": "stdout",
     "output_type": "stream",
     "text": [
      "originale**: to this submission yet i well remember\n",
      "reconstruite**: to this submission me i will for\n"
     ]
    }
   ],
   "source": [
    "\n",
    "\n",
    "def decode_sequence(spice_model, sequence):\n",
    "    \"\"\"decode les embeddings en mots\"\"\"\n",
    "    decoded_words = []\n",
    "    for embedding in sequence.cpu():\n",
    "        if embedding.sum() != 0:  # Ignorer le padding\n",
    "            decoded_words.append(spice_model.decode_embedding(embedding.detach().numpy(), top_n=1)[0])\n",
    "    return \" \".join(decoded_words)\n",
    "\n",
    "batch, lengths = next(iter(dataloader))  \n",
    "idx = random.randint(0, batch.size(0) - 1)  #  phrase au hasard\n",
    "input_seq = batch[idx].unsqueeze(0).to(device)  # le tenseur avec du padding\n",
    "mask = (input_seq != 0).any(dim=2)  # vérifie si chaque ligne contient des valeurs non nulles\n",
    "tensor_clean = input_seq[:, mask[0], :] # enlève les vecteurs nuls du padding\n",
    "length = torch.tensor([tensor_clean.shape[1]]).to(device)  # récupère la longueur originale sans le padding\n",
    "\n",
    "\n",
    "encoder.eval()\n",
    "decoder.eval()\n",
    "with torch.no_grad():\n",
    "    encoded, _ = encoder(input_seq, length)\n",
    "    reconstructed_seq = decoder(encoded, length)\n",
    "\n",
    "\n",
    "original_text = decode_sequence(spice_model, input_seq.squeeze(0))\n",
    "reconstructed_text = decode_sequence(spice_model, reconstructed_seq.squeeze(0))\n",
    "\n",
    "\n",
    "print(f\"originale**: {original_text}\")\n",
    "print(f\"reconstruite**: {reconstructed_text}\")\n"
   ]
  },
  {
   "attachments": {},
   "cell_type": "markdown",
   "metadata": {},
   "source": [
    "# test\n"
   ]
  }
 ],
 "metadata": {
  "kernelspec": {
   "display_name": "Python 3",
   "language": "python",
   "name": "python3"
  },
  "language_info": {
   "codemirror_mode": {
    "name": "ipython",
    "version": 3
   },
   "file_extension": ".py",
   "mimetype": "text/x-python",
   "name": "python",
   "nbconvert_exporter": "python",
   "pygments_lexer": "ipython3",
   "version": "3.12.9"
  },
  "orig_nbformat": 4
 },
 "nbformat": 4,
 "nbformat_minor": 2
}

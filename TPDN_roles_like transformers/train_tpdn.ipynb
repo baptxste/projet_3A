{
 "cells": [
  {
   "cell_type": "code",
   "execution_count": 1,
   "metadata": {},
   "outputs": [],
   "source": [
    "%load_ext autoreload\n",
    "%autoreload 2\n",
    "\n",
    "import requests\n",
    "import torch\n",
    "from torch.utils.data import DataLoader\n",
    "import random\n",
    "import torch.nn as nn \n",
    "from torch import optim\n",
    "# from sklearn.decomposition import TruncatedSVD as svds\n",
    "from scipy.sparse.linalg import svds\n",
    "from sklearn.preprocessing import normalize\n",
    "from torch.nn.utils.rnn import pad_sequence\n",
    "from spice import SpiceEmbeddingModel\n",
    "from gru import GRUEncoder, GRUDecoder\n",
    "from matplotlib import pyplot as plt\n",
    "\n",
    "import torch\n",
    "from torch.utils.data import Dataset, DataLoader\n",
    "import torch.nn as nn\n",
    "import torch.optim as optim\n",
    "import numpy as np\n",
    "import re\n",
    "import pickle\n",
    "from scipy.sparse.linalg import svds\n",
    "from sklearn.preprocessing import normalize\n",
    "from torch.nn.utils.rnn import pad_sequence\n",
    "import matplotlib.pyplot as plt\n",
    "from tpdn import TPDNEncoder\n",
    "import spice"
   ]
  },
  {
   "cell_type": "code",
   "execution_count": 2,
   "metadata": {},
   "outputs": [
    {
     "name": "stderr",
     "output_type": "stream",
     "text": [
      "/home/baptiste/Documents/cours/projet_3A/TPDN_roles_like transformers/spice.py:127: UserWarning: Creating a tensor from a list of numpy.ndarrays is extremely slow. Please consider converting the list to a single numpy.ndarray with numpy.array() before converting to a tensor. (Triggered internally at /pytorch/torch/csrc/utils/tensor_new.cpp:254.)\n",
      "  torch.tensor([self.embeddings[self.word2idx[word]] for word in sentence.split() if word in self.word2idx], dtype=torch.float32)\n"
     ]
    }
   ],
   "source": [
    "\n",
    "URL = \"https://raw.githubusercontent.com/karpathy/char-rnn/master/data/tinyshakespeare/input.txt\"\n",
    "FILE_PATH = \"shakespeare.txt\"\n",
    "EMB_DIM = 64\n",
    "WINDOW = 5\n",
    "\n",
    "\n",
    "try:\n",
    "    with open(FILE_PATH, 'r', encoding='utf-8') as f:\n",
    "        text = f.read()\n",
    "except FileNotFoundError:\n",
    "    response = requests.get(URL)\n",
    "    text = response.text\n",
    "    with open(FILE_PATH, 'w', encoding='utf-8') as f:\n",
    "        f.write(text)\n",
    "\n",
    "\n",
    "spice_model = SpiceEmbeddingModel(emb_dim=50, window_size=3)\n",
    "\n",
    "\n",
    "\n",
    "spice_model.load_model()\n",
    "dataset = spice_model.get_dataset(text)\n",
    "\n",
    "device = torch.device(\"cuda\" if torch.cuda.is_available() else \"cpu\")\n",
    "\n"
   ]
  },
  {
   "cell_type": "code",
   "execution_count": 3,
   "metadata": {},
   "outputs": [],
   "source": [
    "\n",
    "\n",
    "input_size = 50       # dim des fillers \n",
    "role_dim = 20         # dim  des vecteurs de rôle\n",
    "hidden_size = 128     # dim de la représentation latente\n",
    "lr = 0.001\n",
    "num_layers = 3\n",
    "num_epochs = 20\n",
    "batch_size = 64\n",
    "device = torch.device(\"cuda\" if torch.cuda.is_available() else \"cpu\")\n",
    "\n",
    "\n",
    "spice_model = SpiceEmbeddingModel(emb_dim=input_size, window_size=3)\n",
    "try : \n",
    "    spice_model.load_model()\n",
    "except : \n",
    "    pass\n",
    "\n",
    "dataset = spice_model.get_dataset(text, role_dim=role_dim)\n",
    "dataloader = DataLoader(dataset, batch_size=batch_size, shuffle=True, collate_fn=spice.collate_fn_fillers_roles)\n",
    "\n"
   ]
  },
  {
   "cell_type": "code",
   "execution_count": 4,
   "metadata": {},
   "outputs": [
    {
     "name": "stdout",
     "output_type": "stream",
     "text": [
      "Epoch 1/20, Loss: 0.021912576699502428\n",
      "Epoch 2/20, Loss: 0.014352367032022978\n",
      "Epoch 3/20, Loss: 0.0138365620567294\n",
      "Epoch 4/20, Loss: 0.01356506233886731\n",
      "Epoch 5/20, Loss: 0.013370959791989828\n",
      "Epoch 6/20, Loss: 0.013231246009871194\n",
      "Epoch 7/20, Loss: 0.013124792521755973\n",
      "Epoch 8/20, Loss: 0.013031958597077226\n",
      "Epoch 9/20, Loss: 0.012988355883862823\n",
      "Epoch 10/20, Loss: 0.012928922994019971\n",
      "Epoch 11/20, Loss: 0.012916890433354472\n",
      "Epoch 12/20, Loss: 0.012897598509549756\n",
      "Epoch 13/20, Loss: 0.012880791079210625\n",
      "Epoch 14/20, Loss: 0.012877030081157996\n",
      "Epoch 15/20, Loss: 0.012886205055772072\n",
      "Epoch 16/20, Loss: 0.012883448026100681\n",
      "Epoch 17/20, Loss: 0.012877034838311374\n",
      "Epoch 18/20, Loss: 0.012887936088108372\n",
      "Epoch 19/20, Loss: 0.012867927739121527\n",
      "Epoch 20/20, Loss: 0.012871344560566782\n"
     ]
    },
    {
     "data": {
      "image/png": "[encoded data removed]",
      "text/plain": [
       "<Figure size 640x480 with 1 Axes>"
      ]
     },
     "metadata": {},
     "output_type": "display_data"
    }
   ],
   "source": [
    "\n",
    "\n",
    "\n",
    "encoder_rnn = torch.load(\"encoder.pth\", weights_only=False).to(device)\n",
    "\n",
    "tpdn_encoder = TPDNEncoder(input_size, role_dim, hidden_size).to(device)\n",
    "\n",
    "criterion = nn.MSELoss()\n",
    "optimizer = optim.Adam(list(tpdn_encoder.parameters()),lr=lr)\n",
    "encoder_rnn.eval()\n",
    "tpdn_encoder.train()\n",
    "losses = []\n",
    "for epoch in range(num_epochs):\n",
    "    total_loss = 0.0\n",
    "    for fillers, roles, lengths in dataloader:\n",
    "        fillers = fillers.to(device)  # (batch, seq_len, input_size)\n",
    "        roles = roles.to(device)        # (batch, seq_len, role_dim)\n",
    "        lengths = lengths.to(device)    # (batch,)\n",
    "        optimizer.zero_grad()\n",
    "\n",
    "        encoded_tpdn = tpdn_encoder(fillers, roles, lengths)  # (batch, hidden_size)\n",
    "        # reconstructed = decoder(encoded, lengths)         # (batch, max_seq_len, input_size)\n",
    "        with torch.no_grad():\n",
    "            encoded_rnn, _ = encoder_rnn(fillers, lengths)\n",
    "        \n",
    "        loss = criterion(encoded_tpdn, encoded_rnn)\n",
    "        loss.backward()\n",
    "        optimizer.step()\n",
    "\n",
    "        total_loss += loss.item()\n",
    "    avg_loss = total_loss / len(dataloader)\n",
    "    losses.append(avg_loss)\n",
    "    print(f\"Epoch {epoch+1}/{num_epochs}, Loss: {avg_loss}\")\n",
    "\n",
    "\n",
    "torch.save(tpdn_encoder, \"tpdn_encoder.pth\")\n",
    "\n",
    "\n",
    "\n",
    "plt.plot(losses)\n",
    "plt.title(\"MSE over epochs\")\n",
    "plt.xlabel(\"Epoch\")\n",
    "plt.ylabel(\"MSE Loss\")\n",
    "plt.show()\n"
   ]
  },
  {
   "cell_type": "code",
   "execution_count": 6,
   "metadata": {},
   "outputs": [
    {
     "name": "stdout",
     "output_type": "stream",
     "text": [
      "originale**: sir paris i will make a desperate tender\n",
      "reconstruite**: madam coriolanus to will look a captains nought\n"
     ]
    }
   ],
   "source": [
    "\n",
    "\n",
    "def decode_sequence(spice_model, sequence):\n",
    "    \"\"\"decode les embeddings en mots\"\"\"\n",
    "    decoded_words = []\n",
    "    for embedding in sequence.cpu():\n",
    "        if embedding.sum() != 0:  # ignorer le padding pour récupérer la taille de la vrai séquence\n",
    "            decoded_words.append(spice_model.decode_embedding(embedding.detach().numpy(), top_n=1)[0])\n",
    "    return \" \".join(decoded_words)\n",
    "\n",
    "fillers, roles, lengths = next(iter(dataloader))  \n",
    "idx = random.randint(0, fillers.size(0) - 1)  #  phrase au hasard\n",
    "input_seq = fillers[idx].unsqueeze(0).to(device)  # le tenseur avec du padding\n",
    "roles = roles[idx].unsqueeze(0).to(device)\n",
    "mask = (input_seq != 0).any(dim=2)  # vérifie si chaque ligne contient des valeurs non nulles\n",
    "tensor_clean = input_seq[:, mask[0], :] # enlève les vecteurs nuls du padding\n",
    "length = torch.tensor([tensor_clean.shape[1]]).to(device)  # récupère la longueur originale sans le padding\n",
    "\n",
    "decoder = torch.load(\"decoder.pth\", weights_only=False)\n",
    "tpdn_encoder.eval()\n",
    "decoder.eval()\n",
    "with torch.no_grad():\n",
    "    encoded = tpdn_encoder(input_seq, roles, length)\n",
    "    reconstructed_seq = decoder(encoded, length)\n",
    "\n",
    "\n",
    "original_text = decode_sequence(spice_model, input_seq.squeeze(0))\n",
    "reconstructed_text = decode_sequence(spice_model, reconstructed_seq.squeeze(0))\n",
    "\n",
    "\n",
    "print(f\"originale**: {original_text}\")\n",
    "print(f\"reconstruite**: {reconstructed_text}\")\n"
   ]
  }
 ],
 "metadata": {
  "kernelspec": {
   "display_name": "Python 3",
   "language": "python",
   "name": "python3"
  },
  "language_info": {
   "codemirror_mode": {
    "name": "ipython",
    "version": 3
   },
   "file_extension": ".py",
   "mimetype": "text/x-python",
   "name": "python",
   "nbconvert_exporter": "python",
   "pygments_lexer": "ipython3",
   "version": "3.12.9"
  },
  "orig_nbformat": 4
 },
 "nbformat": 4,
 "nbformat_minor": 2
}

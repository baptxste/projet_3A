{
 "cells": [
  {
   "cell_type": "code",
   "execution_count": 1,
   "metadata": {},
   "outputs": [
    {
     "name": "stderr",
     "output_type": "stream",
     "text": [
      "/home/baptiste/micromamba/envs/cours/lib/python3.10/site-packages/tqdm/auto.py:21: TqdmWarning: IProgress not found. Please update jupyter and ipywidgets. See https://ipywidgets.readthedocs.io/en/stable/user_install.html\n",
      "  from .autonotebook import tqdm as notebook_tqdm\n"
     ]
    }
   ],
   "source": [
    "%load_ext autoreload\n",
    "%autoreload 2\n",
    "import os\n",
    "\n",
    "from  partie1 import GRUEncoderGD, GRUDecoderGD\n",
    "from  partie1 import GRUEncoderDG, GRUDecoderDG\n",
    "import torch\n",
    "import torch.nn as nn\n",
    "import torch.optim as optim\n",
    "import matplotlib.pyplot as plt\n",
    "from torchmetrics.classification import Accuracy"
   ]
  },
  {
   "cell_type": "code",
   "execution_count": 2,
   "metadata": {},
   "outputs": [],
   "source": [
    "input_size = 10\n",
    "output_size = 10\n",
    "batch_size = 16\n",
    "seq_len = 10\n",
    "epochs = 10000\n",
    "learning_rate = 0.001\n",
    "num_layers = 1\n",
    "\n",
    "device  = torch.device(\"cuda\" if torch.cuda.is_available() else \"cpu\")\n",
    "precision= Accuracy(task=\"multiclass\", num_classes=input_size).to(device) \n",
    "\n",
    "def generate_data(batch_size, seq_len, input_size):\n",
    "    '''\n",
    "    input_size : pour la plage de valeur \n",
    "    '''\n",
    "    data = torch.randint(0, input_size, (batch_size, seq_len))  # fillers\n",
    "    roles = torch.arange(seq_len).unsqueeze(0).expand(batch_size, -1)  # rôles\n",
    "    return data, roles\n",
    "\n",
    "def plot_tensors(tensor1, tensor2, labels=(\"Tensor 1\", \"Tensor 2\")):\n",
    "\n",
    "    tensor1 = tensor1.flatten()\n",
    "    tensor2 = tensor2.flatten()\n",
    "    x_indices = range(len(tensor1))\n",
    "\n",
    "\n",
    "    plt.figure(figsize=(10, 6))\n",
    "    plt.plot(x_indices, tensor1.detach().numpy(), label=labels[0], marker='o')\n",
    "    plt.plot(x_indices, tensor2.detach().numpy(), label=labels[1], marker='x')\n",
    "\n",
    "    plt.title(\"Comparaison des valeurs des tenseur en fonction de l'indice\")\n",
    "    plt.xlabel(\"Index\")\n",
    "    plt.ylabel(\"Value\")\n",
    "    plt.legend()\n",
    "    plt.grid(True)\n",
    "    plt.show()"
   ]
  },
  {
   "attachments": {},
   "cell_type": "markdown",
   "metadata": {},
   "source": [
    "# EVAL "
   ]
  },
  {
   "attachments": {},
   "cell_type": "markdown",
   "metadata": {},
   "source": [
    "## Gauche droite"
   ]
  },
  {
   "cell_type": "code",
   "execution_count": 3,
   "metadata": {},
   "outputs": [
    {
     "name": "stderr",
     "output_type": "stream",
     "text": [
      "/tmp/ipykernel_6859/2970232091.py:1: FutureWarning: You are using `torch.load` with `weights_only=False` (the current default value), which uses the default pickle module implicitly. It is possible to construct malicious pickle data which will execute arbitrary code during unpickling (See https://github.com/pytorch/pytorch/blob/main/SECURITY.md#untrusted-models for more details). In a future release, the default value for `weights_only` will be flipped to `True`. This limits the functions that could be executed during unpickling. Arbitrary objects will no longer be allowed to be loaded via this mode unless they are explicitly allowlisted by the user via `torch.serialization.add_safe_globals`. We recommend you start setting `weights_only=True` for any use case where you don't have full control of the loaded file. Please open an issue on GitHub for any issues related to this experimental feature.\n",
      "  encoder = torch.load( \"./models/GD/gru_enc_emb8_hid64.pth\").to(device)\n",
      "/tmp/ipykernel_6859/2970232091.py:2: FutureWarning: You are using `torch.load` with `weights_only=False` (the current default value), which uses the default pickle module implicitly. It is possible to construct malicious pickle data which will execute arbitrary code during unpickling (See https://github.com/pytorch/pytorch/blob/main/SECURITY.md#untrusted-models for more details). In a future release, the default value for `weights_only` will be flipped to `True`. This limits the functions that could be executed during unpickling. Arbitrary objects will no longer be allowed to be loaded via this mode unless they are explicitly allowlisted by the user via `torch.serialization.add_safe_globals`. We recommend you start setting `weights_only=True` for any use case where you don't have full control of the loaded file. Please open an issue on GitHub for any issues related to this experimental feature.\n",
      "  decoder = torch.load( \"./models/GD/gru_dec_emb8_hid64.pth\").to(device)\n"
     ]
    }
   ],
   "source": [
    "encoder = torch.load( \"./models/GD/gru_enc_emb8_hid64.pth\").to(device)\n",
    "decoder = torch.load( \"./models/GD/gru_dec_emb8_hid64.pth\").to(device)\n",
    "\n",
    "\"\"\"\n",
    "load le tpdn qui va bien, faire 1000 expérience et afficher l'accuracy et la loss \n",
    "\"\"\""
   ]
  },
  {
   "attachments": {},
   "cell_type": "markdown",
   "metadata": {},
   "source": [
    "## Droite Gauche"
   ]
  }
 ],
 "metadata": {
  "kernelspec": {
   "display_name": "Python 3",
   "language": "python",
   "name": "python3"
  },
  "language_info": {
   "codemirror_mode": {
    "name": "ipython",
    "version": 3
   },
   "file_extension": ".py",
   "mimetype": "text/x-python",
   "name": "python",
   "nbconvert_exporter": "python",
   "pygments_lexer": "ipython3",
   "version": "3.10.15"
  },
  "orig_nbformat": 4
 },
 "nbformat": 4,
 "nbformat_minor": 2
}
